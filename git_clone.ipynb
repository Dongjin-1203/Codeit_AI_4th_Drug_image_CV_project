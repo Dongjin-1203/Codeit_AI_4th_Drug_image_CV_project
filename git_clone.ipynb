{
  "nbformat": 4,
  "nbformat_minor": 0,
  "metadata": {
    "colab": {
      "provenance": [],
      "authorship_tag": "ABX9TyPxcxXvl2CmIMW7DOuEzgbg",
      "include_colab_link": true
    },
    "kernelspec": {
      "name": "python3",
      "display_name": "Python 3"
    },
    "language_info": {
      "name": "python"
    }
  },
  "cells": [
    {
      "cell_type": "markdown",
      "metadata": {
        "id": "view-in-github",
        "colab_type": "text"
      },
      "source": [
        "<a href=\"https://colab.research.google.com/github/Dongjin-1203/Codeit_AI_4th_Drug_image_CV_project/blob/main/git_clone.ipynb\" target=\"_parent\"><img src=\"https://colab.research.google.com/assets/colab-badge.svg\" alt=\"Open In Colab\"/></a>"
      ]
    },
    {
      "cell_type": "code",
      "execution_count": null,
      "metadata": {
        "colab": {
          "base_uri": "https://localhost:8080/"
        },
        "id": "s_gGiYJJMRpJ",
        "outputId": "4b67a542-0cef-4e02-c470-cf4c4b516342"
      },
      "outputs": [
        {
          "output_type": "stream",
          "name": "stdout",
          "text": [
            "Mounted at /content/drive\n"
          ]
        }
      ],
      "source": [
        "from google.colab import drive\n",
        "drive.mount('/content/drive')"
      ]
    },
    {
      "cell_type": "markdown",
      "source": [
        "# 일반적인 Git Clone 하는 방법"
      ],
      "metadata": {
        "id": "bJ4_A6MoBAUi"
      }
    },
    {
      "cell_type": "code",
      "source": [
        "# 공개 리포지토리의 경우\n",
        "!git clone https://github.com/사용자명/리포지토리명.git\n",
        "\n",
        "# 예시\n",
        "!git clone https://github.com/tensorflow/tensorflow.git"
      ],
      "metadata": {
        "id": "_qZVFhVXMe1h"
      },
      "execution_count": null,
      "outputs": []
    },
    {
      "cell_type": "code",
      "source": [
        "# 특정 브랜치만 복제\n",
        "!git clone -b 브랜치명 https://github.com/사용자명/리포지토리명.git\n",
        "\n",
        "# 예시\n",
        "!git clone -b main https://github.com/tensorflow/tensorflow.git"
      ],
      "metadata": {
        "id": "4HwT2HumUreR"
      },
      "execution_count": null,
      "outputs": []
    },
    {
      "cell_type": "code",
      "source": [
        "# Personal Access Token 사용\n",
        "!git clone https://토큰@github.com/사용자명/리포지토리명.git\n",
        "\n",
        "# 또는 사용자명:토큰 형태\n",
        "!git clone https://사용자명:토큰@github.com/사용자명/리포지토리명.git"
      ],
      "metadata": {
        "id": "wUFxZcDQAyjz"
      },
      "execution_count": null,
      "outputs": []
    },
    {
      "cell_type": "code",
      "source": [
        "# 리포지토리 복제\n",
        "!git clone https://github.com/사용자명/리포지토리명.git\n",
        "\n",
        "# 복제된 디렉토리로 이동\n",
        "import os\n",
        "os.chdir('리포지토리명')\n",
        "\n",
        "# 현재 디렉토리 확인\n",
        "!pwd"
      ],
      "metadata": {
        "id": "zGR4PofjA3Xb"
      },
      "execution_count": null,
      "outputs": []
    },
    {
      "cell_type": "code",
      "source": [
        "# 1. 리포지토리 복제\n",
        "!git clone https://github.com/huggingface/transformers.git\n",
        "\n",
        "# 2. 디렉토리 이동\n",
        "import os\n",
        "os.chdir('transformers')\n",
        "\n",
        "# 3. 파일 목록 확인\n",
        "!ls -la\n",
        "\n",
        "# 4. 필요한 파일 실행 또는 import"
      ],
      "metadata": {
        "id": "GZtQNAmSA4qR"
      },
      "execution_count": null,
      "outputs": []
    },
    {
      "cell_type": "markdown",
      "source": [
        "# 특정 루트에 디렉토리를 저장하는 방법"
      ],
      "metadata": {
        "id": "9ypkTHSZA8cZ"
      }
    },
    {
      "cell_type": "code",
      "source": [
        "# 기본 문법\n",
        "!git clone https://github.com/사용자명/리포지토리명.git /경로/원하는폴더명\n",
        "\n",
        "# 예시들\n",
        "!git clone https://github.com/tensorflow/tensorflow.git /content/my_projects/tensorflow\n",
        "!git clone https://github.com/huggingface/transformers.git /content/models/transformers"
      ],
      "metadata": {
        "id": "VsJjdIM9A_wF"
      },
      "execution_count": null,
      "outputs": []
    },
    {
      "cell_type": "code",
      "source": [
        "# 1. 원하는 경로로 이동\n",
        "import os\n",
        "os.chdir('/content/my_projects')\n",
        "\n",
        "# 2. 해당 위치에서 복제\n",
        "!git clone https://github.com/사용자명/리포지토리명.git\n",
        "\n",
        "# 또는 한 번에\n",
        "!cd /content/my_projects && git clone https://github.com/사용자명/리포지토리명.git"
      ],
      "metadata": {
        "id": "I4nm9XbyBHes"
      },
      "execution_count": null,
      "outputs": []
    },
    {
      "cell_type": "code",
      "source": [
        "# 1. 디렉토리 생성\n",
        "!mkdir -p /content/my_workspace/projects\n",
        "\n",
        "# 2. 해당 경로에 복제\n",
        "!git clone https://github.com/사용자명/리포지토리명.git /content/my_workspace/projects/프로젝트명"
      ],
      "metadata": {
        "id": "7ENj4oNxBIu3"
      },
      "execution_count": null,
      "outputs": []
    },
    {
      "cell_type": "code",
      "source": [
        "# 작업 공간 설정\n",
        "!mkdir -p /content/workspace/{models,datasets,utils}\n",
        "\n",
        "# 각각 다른 경로에 복제\n",
        "!git clone https://github.com/huggingface/transformers.git /content/workspace/models/transformers\n",
        "!git clone https://github.com/tensorflow/datasets.git /content/workspace/datasets/tf_datasets\n",
        "!git clone https://github.com/numpy/numpy.git /content/workspace/utils/numpy"
      ],
      "metadata": {
        "id": "f0yFtBXdBKJf"
      },
      "execution_count": null,
      "outputs": []
    },
    {
      "cell_type": "code",
      "source": [
        "# 작업 환경 구성\n",
        "project_path = \"/content/my_ai_projects\"\n",
        "!mkdir -p {project_path}\n",
        "\n",
        "# 여러 리포지토리를 조직적으로 복제\n",
        "repositories = [\n",
        "    (\"https://github.com/openai/whisper.git\", f\"{project_path}/whisper\"),\n",
        "    (\"https://github.com/facebookresearch/detectron2.git\", f\"{project_path}/detectron2\"),\n",
        "    (\"https://github.com/ultralytics/yolov5.git\", f\"{project_path}/yolov5\")\n",
        "]\n",
        "\n",
        "for repo_url, destination in repositories:\n",
        "    print(f\"복제 중: {repo_url} -> {destination}\")\n",
        "    !git clone {repo_url} {destination}\n",
        "\n",
        "# 복제된 프로젝트들 확인\n",
        "!ls -la {project_path}"
      ],
      "metadata": {
        "id": "HmxLtyMBBROY"
      },
      "execution_count": null,
      "outputs": []
    },
    {
      "cell_type": "code",
      "source": [
        "# 한글 경로 사용 시 따옴표로 감싸기\n",
        "!git clone https://github.com/사용자명/리포지토리명.git \"/content/내 프로젝트/머신러닝\"\n",
        "\n",
        "# 또는 변수 사용\n",
        "korean_path = \"/content/인공지능 프로젝트/자연어처리\"\n",
        "!mkdir -p \"{korean_path}\"\n",
        "!git clone https://github.com/huggingface/transformers.git \"{korean_path}/transformers\""
      ],
      "metadata": {
        "id": "lgin0KxLBT9I"
      },
      "execution_count": null,
      "outputs": []
    },
    {
      "cell_type": "markdown",
      "source": [
        "## 주의사항\n",
        "- __권한__: `/content/` 경로는 Colab에서 자유롭게 사용 가능\n",
        "- __공간__: 너무 깊은 경로는 피하는 것이 좋음\n",
        "- __한글 경로__: 가능하지만 영문 경로 권장\n",
        "- __Google Drive__: 연동 시 `/content/drive/MyDrive/` 경로 활용"
      ],
      "metadata": {
        "id": "kUi5kWgJBViD"
      }
    },
    {
      "cell_type": "code",
      "source": [],
      "metadata": {
        "id": "0Z8dr0rFBiyZ"
      },
      "execution_count": null,
      "outputs": []
    }
  ]
}